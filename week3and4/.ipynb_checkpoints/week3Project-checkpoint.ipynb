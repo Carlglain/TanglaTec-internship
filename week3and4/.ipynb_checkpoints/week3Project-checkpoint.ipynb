{
 "cells": [
  {
   "cell_type": "raw",
   "id": "85cddc0f-a65c-4761-b153-f02eca3ec19f",
   "metadata": {},
   "source": [
    "\n",
    "Problem statement:\r\n",
    "•\tDevelop Python and C++ functions to determine the peak position of a Gaussian distribution from given x, y data.\r\n",
    "•\tFunctions should be versatile to handle data from various sources (CSV, TXT, etc.).\r\n",
    "•\tImplement two methods: direct maximum search and Gaussian fitting.\r\n",
    "•\tApply functions to multiple datasets provided\r\n",
    "\r\n"
   ]
  },
  {
   "cell_type": "code",
   "execution_count": 2,
   "id": "521e0e05-0446-45e0-a5c4-1662c6ab3cb5",
   "metadata": {},
   "outputs": [],
   "source": [
    "import pandas as pd\n",
    "import numpy as np\n",
    "import matplotlib.pyplot as plt\n",
    "import numpy as np\n",
    "from scipy.optimize import curve_fit"
   ]
  },
  {
   "cell_type": "code",
   "execution_count": 4,
   "id": "740e03d8-13c6-473b-8ca8-c2f6341f55d9",
   "metadata": {},
   "outputs": [],
   "source": [
    "def ReadData(fileLocation):\n",
    "    #read data in relation to format\n",
    "    try:\n",
    "        if fileLocation.endswith('.csv'): #\n",
    "            dataRead =pd.DataFrame(pd.read_csv(fileLocation))\n",
    "        elif fileLocation.endswith('.tsv'): \n",
    "            dataRead = np.genfromtxt(fileLocation, delimiter = \" \" )\n",
    "            x = dataRead[:,0]\n",
    "            y= dataRead[:,1]\n",
    "            dataRead = pd.DataFrame({'X':x,'Y':y})\n",
    "        elif fileLocation.endswith('xlsx'):\n",
    "            dataRead = pd.read_excel(fileLocation)\n",
    "        else:\n",
    "            # Unsupported file format\n",
    "            raise ValueError(f\"Unsupported file format: {fileLocation}\")\n",
    "    except Exception as e:\n",
    "        print(f\"Error reading file: {e}\")\n",
    "        return None\n",
    "\n",
    "    return dataRead\n",
    "\n"
   ]
  },
  {
   "cell_type": "code",
   "execution_count": 5,
   "id": "06ae4832-d25e-4531-a3b8-8a1c62093151",
   "metadata": {},
   "outputs": [],
   "source": [
    "data = ReadData('datasets/anotherfileformat.tsv')"
   ]
  },
  {
   "cell_type": "code",
   "execution_count": 6,
   "id": "22572f94-8f06-4cf5-a06b-2a78fe32ef9f",
   "metadata": {},
   "outputs": [
    {
     "data": {
      "text/html": [
       "<div>\n",
       "<style scoped>\n",
       "    .dataframe tbody tr th:only-of-type {\n",
       "        vertical-align: middle;\n",
       "    }\n",
       "\n",
       "    .dataframe tbody tr th {\n",
       "        vertical-align: top;\n",
       "    }\n",
       "\n",
       "    .dataframe thead th {\n",
       "        text-align: right;\n",
       "    }\n",
       "</style>\n",
       "<table border=\"1\" class=\"dataframe\">\n",
       "  <thead>\n",
       "    <tr style=\"text-align: right;\">\n",
       "      <th></th>\n",
       "      <th>X</th>\n",
       "      <th>Y</th>\n",
       "    </tr>\n",
       "  </thead>\n",
       "  <tbody>\n",
       "    <tr>\n",
       "      <th>0</th>\n",
       "      <td>-5.872840</td>\n",
       "      <td>0.048083</td>\n",
       "    </tr>\n",
       "    <tr>\n",
       "      <th>1</th>\n",
       "      <td>-5.872835</td>\n",
       "      <td>0.048692</td>\n",
       "    </tr>\n",
       "    <tr>\n",
       "      <th>2</th>\n",
       "      <td>-5.872840</td>\n",
       "      <td>0.048083</td>\n",
       "    </tr>\n",
       "    <tr>\n",
       "      <th>3</th>\n",
       "      <td>-5.872835</td>\n",
       "      <td>0.049300</td>\n",
       "    </tr>\n",
       "    <tr>\n",
       "      <th>4</th>\n",
       "      <td>-5.872835</td>\n",
       "      <td>0.047474</td>\n",
       "    </tr>\n",
       "    <tr>\n",
       "      <th>...</th>\n",
       "      <td>...</td>\n",
       "      <td>...</td>\n",
       "    </tr>\n",
       "    <tr>\n",
       "      <th>1995</th>\n",
       "      <td>-5.872690</td>\n",
       "      <td>0.048387</td>\n",
       "    </tr>\n",
       "    <tr>\n",
       "      <th>1996</th>\n",
       "      <td>-5.872695</td>\n",
       "      <td>0.047779</td>\n",
       "    </tr>\n",
       "    <tr>\n",
       "      <th>1997</th>\n",
       "      <td>-5.872705</td>\n",
       "      <td>0.048996</td>\n",
       "    </tr>\n",
       "    <tr>\n",
       "      <th>1998</th>\n",
       "      <td>-5.872715</td>\n",
       "      <td>0.048387</td>\n",
       "    </tr>\n",
       "    <tr>\n",
       "      <th>1999</th>\n",
       "      <td>-5.872720</td>\n",
       "      <td>0.049300</td>\n",
       "    </tr>\n",
       "  </tbody>\n",
       "</table>\n",
       "<p>2000 rows × 2 columns</p>\n",
       "</div>"
      ],
      "text/plain": [
       "             X         Y\n",
       "0    -5.872840  0.048083\n",
       "1    -5.872835  0.048692\n",
       "2    -5.872840  0.048083\n",
       "3    -5.872835  0.049300\n",
       "4    -5.872835  0.047474\n",
       "...        ...       ...\n",
       "1995 -5.872690  0.048387\n",
       "1996 -5.872695  0.047779\n",
       "1997 -5.872705  0.048996\n",
       "1998 -5.872715  0.048387\n",
       "1999 -5.872720  0.049300\n",
       "\n",
       "[2000 rows x 2 columns]"
      ]
     },
     "execution_count": 6,
     "metadata": {},
     "output_type": "execute_result"
    }
   ],
   "source": [
    "data"
   ]
  },
  {
   "cell_type": "code",
   "execution_count": 12,
   "id": "92ed3497-ccbd-4ec1-8a8e-94c51dc05bae",
   "metadata": {},
   "outputs": [],
   "source": [
    "voltage = data[\"Y\"]\n",
    "x_value = data[\"X\"]"
   ]
  },
  {
   "cell_type": "code",
   "execution_count": 8,
   "id": "d8fbf932-c894-41c7-a690-4d073b7f2a74",
   "metadata": {},
   "outputs": [
    {
     "data": {
      "image/png": "[encoded data removed]",
      "text/plain": [
       "<Figure size 700x500 with 1 Axes>"
      ]
     },
     "metadata": {},
     "output_type": "display_data"
    }
   ],
   "source": [
    "plt.figure(figsize =(7,5))\n",
    "plt.scatter(x_value,voltage)\n",
    "plt.xlabel(\"input x\")\n",
    "plt.ylabel(\"voltage\")\n",
    "plt.title(\"Voltage against sample input\")\n",
    "plt.grid()\n",
    "plt.show()"
   ]
  },
  {
   "cell_type": "code",
   "execution_count": 9,
   "id": "9df80fc3-37d6-4cf8-ae59-3ea2ac7fbf3d",
   "metadata": {},
   "outputs": [
    {
     "data": {
      "text/html": [
       "<div>\n",
       "<style scoped>\n",
       "    .dataframe tbody tr th:only-of-type {\n",
       "        vertical-align: middle;\n",
       "    }\n",
       "\n",
       "    .dataframe tbody tr th {\n",
       "        vertical-align: top;\n",
       "    }\n",
       "\n",
       "    .dataframe thead th {\n",
       "        text-align: right;\n",
       "    }\n",
       "</style>\n",
       "<table border=\"1\" class=\"dataframe\">\n",
       "  <thead>\n",
       "    <tr style=\"text-align: right;\">\n",
       "      <th></th>\n",
       "      <th>X</th>\n",
       "      <th>Y</th>\n",
       "    </tr>\n",
       "  </thead>\n",
       "  <tbody>\n",
       "    <tr>\n",
       "      <th>count</th>\n",
       "      <td>2000.000000</td>\n",
       "      <td>2000.000000</td>\n",
       "    </tr>\n",
       "    <tr>\n",
       "      <th>mean</th>\n",
       "      <td>-5.872742</td>\n",
       "      <td>0.015910</td>\n",
       "    </tr>\n",
       "    <tr>\n",
       "      <th>std</th>\n",
       "      <td>0.009841</td>\n",
       "      <td>0.019697</td>\n",
       "    </tr>\n",
       "    <tr>\n",
       "      <th>min</th>\n",
       "      <td>-5.889020</td>\n",
       "      <td>-0.000609</td>\n",
       "    </tr>\n",
       "    <tr>\n",
       "      <th>25%</th>\n",
       "      <td>-5.880585</td>\n",
       "      <td>0.001522</td>\n",
       "    </tr>\n",
       "    <tr>\n",
       "      <th>50%</th>\n",
       "      <td>-5.872723</td>\n",
       "      <td>0.002130</td>\n",
       "    </tr>\n",
       "    <tr>\n",
       "      <th>75%</th>\n",
       "      <td>-5.864896</td>\n",
       "      <td>0.036823</td>\n",
       "    </tr>\n",
       "    <tr>\n",
       "      <th>max</th>\n",
       "      <td>-5.856465</td>\n",
       "      <td>0.052648</td>\n",
       "    </tr>\n",
       "  </tbody>\n",
       "</table>\n",
       "</div>"
      ],
      "text/plain": [
       "                 X            Y\n",
       "count  2000.000000  2000.000000\n",
       "mean     -5.872742     0.015910\n",
       "std       0.009841     0.019697\n",
       "min      -5.889020    -0.000609\n",
       "25%      -5.880585     0.001522\n",
       "50%      -5.872723     0.002130\n",
       "75%      -5.864896     0.036823\n",
       "max      -5.856465     0.052648"
      ]
     },
     "execution_count": 9,
     "metadata": {},
     "output_type": "execute_result"
    }
   ],
   "source": [
    "data.describe()"
   ]
  },
  {
   "cell_type": "code",
   "execution_count": 10,
   "id": "016966ca-8b48-4ed4-8e71-4fadaf40b623",
   "metadata": {},
   "outputs": [],
   "source": [
    "#looking for the max directly\n",
    "def DirectMaxSearch(Voltage):\n",
    "    maxIndex = np.argmax(Voltage)\n",
    "    return x_value[maxIndex]"
   ]
  },
  {
   "cell_type": "code",
   "execution_count": 14,
   "id": "b92603ad-ecf1-4d9c-8619-6ea65ffe9b64",
   "metadata": {},
   "outputs": [],
   "source": [
    "directMax = DirectMaxSearch(voltage)\n"
   ]
  },
  {
   "cell_type": "code",
   "execution_count": 16,
   "id": "d8cadc6b-1efd-4404-9fd4-0d95852c1a63",
   "metadata": {},
   "outputs": [
    {
     "name": "stdout",
     "output_type": "stream",
     "text": [
      "The index of the maximum value is -5.873195\n"
     ]
    }
   ],
   "source": [
    "print(f'The index of the maximum value is {directMax}')"
   ]
  },
  {
   "cell_type": "code",
   "execution_count": 17,
   "id": "eed4592a-efa7-4f84-ab0d-61c6c5d42607",
   "metadata": {},
   "outputs": [],
   "source": [
    "#Looking for max using the guassian fit\n",
    "\n",
    "def gaussian(x, amp, mean, std):\n",
    "    return amp * np.exp(-(x - mean)**2 / (2 * std**2))\n",
    "\n",
    "def find_peak(x, y):\n",
    "    try:\n",
    "        popt, pcov = curve_fit(gaussian, x, y, p0=[np.max(y), np.mean(x), np.std(x)])\n",
    "        peak_gaussian = popt[1]\n",
    "        return peak_gaussian\n",
    "    except RuntimeError:\n",
    "        print(\"Gaussian fitting failed.\")\n",
    "        return None\n"
   ]
  },
  {
   "cell_type": "code",
   "execution_count": 18,
   "id": "06d3e9d4-dd5f-405a-a638-cb8f403a8fdb",
   "metadata": {
    "scrolled": true
   },
   "outputs": [],
   "source": [
    "\n",
    "gaussianMax =  find_peak(x_value,voltage)"
   ]
  },
  {
   "cell_type": "code",
   "execution_count": 19,
   "id": "d0d228f3-8d89-4af2-a0b0-8342735613fb",
   "metadata": {},
   "outputs": [
    {
     "name": "stdout",
     "output_type": "stream",
     "text": [
      "the gaussian max is: -5.8730992850319685\n"
     ]
    }
   ],
   "source": [
    "print(f\"the gaussian max is: {gaussianMax}\")"
   ]
  },
  {
   "cell_type": "code",
   "execution_count": 20,
   "id": "9a8fc2a0-1fa6-45c2-b0ce-9e45b1cfb81e",
   "metadata": {},
   "outputs": [
    {
     "data": {
      "text/plain": [
       "-9.571496803140178e-05"
      ]
     },
     "execution_count": 20,
     "metadata": {},
     "output_type": "execute_result"
    }
   ],
   "source": [
    "#difference between the maximums gotten from the different methods\n",
    "directMax - gaussianMax"
   ]
  },
  {
   "cell_type": "code",
   "execution_count": 25,
   "id": "b7a2073f-a925-4a75-a57d-e2d14a5b41ad",
   "metadata": {},
   "outputs": [
    {
     "data": {
      "text/plain": [
       "numpy.float64"
      ]
     },
     "execution_count": 25,
     "metadata": {},
     "output_type": "execute_result"
    }
   ],
   "source": [
    "#combining the results of the two max positions and finding the mean to reduce errors\n",
    "accurateMax = np.sum([directMax , gaussianMax])/2\n",
    "type(accurateMax)"
   ]
  },
  {
   "cell_type": "code",
   "execution_count": 27,
   "id": "ba7f2e44-39ff-43d7-a09f-567c4118f5b8",
   "metadata": {},
   "outputs": [
    {
     "name": "stdout",
     "output_type": "stream",
     "text": [
      "a better aproximation of the Max position is: -5.873147142515984\n"
     ]
    }
   ],
   "source": [
    "print(f\"a better aproximation of the Max position is: {accurateMax}\")"
   ]
  },
  {
   "cell_type": "code",
   "execution_count": null,
   "id": "85f592e8-09a2-4fcb-9799-71d98d569a66",
   "metadata": {},
   "outputs": [],
   "source": []
  }
 ],
 "metadata": {
  "kernelspec": {
   "display_name": "Python 3 (ipykernel)",
   "language": "python",
   "name": "python3"
  },
  "language_info": {
   "codemirror_mode": {
    "name": "ipython",
    "version": 3
   },
   "file_extension": ".py",
   "mimetype": "text/x-python",
   "name": "python",
   "nbconvert_exporter": "python",
   "pygments_lexer": "ipython3",
   "version": "3.12.4"
  }
 },
 "nbformat": 4,
 "nbformat_minor": 5
}
