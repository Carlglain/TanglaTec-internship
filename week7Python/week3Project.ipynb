{
 "cells": [
  {
   "cell_type": "raw",
   "id": "85cddc0f-a65c-4761-b153-f02eca3ec19f",
   "metadata": {},
   "source": [
    "\n",
    "Problem statement:\r\n",
    "•\tDevelop Python and C++ functions to determine the peak position of a Gaussian distribution from given x, y data.\r\n",
    "•\tFunctions should be versatile to handle data from various sources (CSV, TXT, etc.).\r\n",
    "•\tImplement two methods: direct maximum search and Gaussian fitting.\r\n",
    "•\tApply functions to multiple datasets prov idfrom sklearn.model_selection import train_test_split  #this is the model that helps us to split our dASIDE\n",
    "ata\n",
    "#spliting the data\n",
    "x_train,x_test,y_train,y_test = train_test_split(x,y,test_size = 0.1) this plits the data into 90/10 for train and test data. Not putting the test_size splits the data into 70/30ed\r\n",
    "\r\n"
   ]
  },
  {
   "cell_type": "code",
   "execution_count": null,
   "id": "521e0e05-0446-45e0-a5c4-1662c6ab3cb5",
   "metadata": {},
   "outputs": [],
   "source": [
    "import pandas as pd\n",
    "import numpy as np\n",
    "import matplotlib.pyplot as plt\n",
    "import numpy as np\n",
    "from scipy.optimize import curve_fit\n",
    "import os\n",
    "from scipy import stats"
   ]
  },
  {
   "cell_type": "code",
   "execution_count": null,
   "id": "740e03d8-13c6-473b-8ca8-c2f6341f55d9",
   "metadata": {},
   "outputs": [],
   "source": [
    "def ReadData(fileLocation):\n",
    "    #read data in relation to format\n",
    "    try:\n",
    "        if fileLocation.endswith('.csv'): \n",
    "            dataRead =pd.DataFrame(pd.read_csv(fileLocation,delimiter = \" \"))\n",
    "            dataRead.columns = ['X','Y','Z']\n",
    "        elif fileLocation.endswith('.tsv'): \n",
    "            dataRead = np.genfromtxt(fileLocation, delimiter = \" \" )\n",
    "            x = dataRead[:,0]\n",
    "            y= dataRead[:,1]\n",
    "            z =dataRead[:,2]\n",
    "            dataRead = pd.DataFrame({'X':x,'Y':y, 'Z':z})\n",
    "        elif fileLocation.endswith('.xls'):\n",
    "            dataRead = pd.read_excel(fileLocation)\n",
    "        elif fileLocation.endswith('.txt'):\n",
    "            dataRead =pd.read_csv(fileLocation, sep=' ')\n",
    "            dataRead.columns = ['X','Y','Z']\n",
    "           \n",
    "        else:\n",
    "            # Unsupported file format\n",
    "            raise ValueError(f\"Unsupported file format: {fileLocation}\")\n",
    "    except Exception as e:\n",
    "        print(f\"Error reading file: {e}\")\n",
    "        return None\n",
    "\n",
    "    return dataRead\n",
    "\n"
   ]
  },
  {
   "cell_type": "code",
   "execution_count": null,
   "id": "22572f94-8f06-4cf5-a06b-2a78fe32ef9f",
   "metadata": {},
   "outputs": [],
   "source": [
    "#looking for the max directly\n",
    "def DirectMaxSearch(Voltage):\n",
    "    maxIndex = np.argmax(Voltage)\n",
    "    return maxIndex"
   ]
  },
  {
   "cell_type": "code",
   "execution_count": 23,
   "id": "ddf7666f-9725-4e8d-ae31-8e9959b6c584",
   "metadata": {},
   "outputs": [],
   "source": [
    "#Looking for max using the guassian fit\n",
    "def gaussian_3d(x, y, a, mu_x, mu_y, sigma_x, sigma_y):\n",
    "    \"\"\"Calculates the 3D Gaussian function value for given x and y.\"\"\"\n",
    "    return a * np.exp(-((x - mu_x)**2 / (2 * sigma_x**2) + (y - mu_y)**2 / (2 * sigma_y**2)))\n",
    "\n",
    "def fit_gaussian_3d(x, y, z):\n",
    "    \"\"\"Fits a 3D Gaussian curve to the given data points and finds the maximum position.\n",
    "\n",
    "    Args:\n",
    "        x: The x-axis data points.\n",
    "        y: The y-axis data points.\n",
    "        z: The z-axis data points.\n",
    "\n",
    "    Returns:\n",
    "        A tuple containing the x and y positions of the maximum value.\n",
    "    \"\"\"\n",
    "\n",
    "    # Preprocessing (smoothing)\n",
    "    z_smoothed = np.convolve(z, np.ones(5) / 5, mode='same')\n",
    "\n",
    "    # Improved initial guess\n",
    "    a = np.max(z_smoothed)\n",
    "    p0 = [a, np.mean(x), np.mean(y), np.std(x), np.std(y)]\n",
    "    try:\n",
    "        popt, pcov = curve_fit(gaussian_3d, x, y, z_smoothed, p0=p0)\n",
    "        peak_gaussian_x = popt[1]  # Extract the x-position of the maximum\n",
    "        peak_gaussian_y = popt[2]  # Extract the y-position of the maximum\n",
    "        return (peak_gaussian_x, peak_gaussian_y)\n",
    "    except RuntimeError:\n",
    "        print(\"Curve fitting failed\")\n",
    "        return None"
   ]
  },
  {
   "cell_type": "code",
   "execution_count": 24,
   "id": "b0ce9ffb-b337-47c4-95a6-6de5ce44c90f",
   "metadata": {},
   "outputs": [],
   "source": [
    "# function to analyse and plot the dataset\n",
    "def analyze_dataset(dataset,count,index):\n",
    "    voltage = dataset[\"Z\"]\n",
    "    y_value = dataset[\"Y\"]\n",
    "    x_value = dataset[\"X\"]\n",
    "    #direct Max analysis\n",
    "    dir_max_index = DirectMaxSearch(voltage)\n",
    "    dir_max_posX = x_value[dir_max_index]\n",
    "    dir_max_posY=y_value[dir_max_index]\n",
    "   \n",
    "    \n",
    "    dir_max_val=np.max(voltage)\n",
    "    dir_max_data ={dir_max_posX,dir_max_posY,dir_max_val}\n",
    "    print(f\"For this dataset, direct max X position is: {dir_max_posX} direct max Y position is: {dir_max_posY} and value is {dir_max_val}\")\n",
    "    \n",
    "    #gaussian max analysis is \n",
    "    gauss_max_posX,guass_max_posY = fit_gaussian_3d(x_value,y_value,voltage)\n",
    "    if gauss_max_posX and gauss_max_posY is not None:\n",
    "        gauss_max_val=voltage[np.argmax(gauss_max_posX)]\n",
    "        gauss_max_data ={gauss_max_posX,gaus_max_posY,gauss_max_val}\n",
    "        print(f\"For this dataset, Gaussian max position is: {gauss_max_pos} and value is {gauss_max_val}\")\n",
    "    else:\n",
    "        print(\"Gaussian fit failed for this dataset.\")\n",
    "    #plot the data\n",
    "    plt.figure()\n",
    "    ax =plt.axes(projection='3d')\n",
    "    ax.scatter(x_value, y_value, voltage)\n",
    "    ax.set_xlabel(\"X\")\n",
    "    ax.set_ylabel(\"Y\")\n",
    "    ax.set_zlabel(\"Voltage\")\n",
    "    ax.set_title(count + str(index))\n",
    "    plt.show()\n",
    "   \n",
    "    return (dir_max_data, gauss_max_data)"
   ]
  },
  {
   "cell_type": "code",
   "execution_count": 20,
   "id": "54951875-10e3-493f-adb3-df9b0f10f28e",
   "metadata": {},
   "outputs": [
    {
     "name": "stdout",
     "output_type": "stream",
     "text": [
      "For this dataset, direct max X position is: 11.740355 direct max Y position is: 11.12429 and value is 0.1880720311253\n"
     ]
    },
    {
     "ename": "TypeError",
     "evalue": "curve_fit() got multiple values for argument 'p0'",
     "output_type": "error",
     "traceback": [
      "\u001b[1;31m---------------------------------------------------------------------------\u001b[0m",
      "\u001b[1;31mTypeError\u001b[0m                                 Traceback (most recent call last)",
      "Cell \u001b[1;32mIn[20], line 13\u001b[0m\n\u001b[0;32m     11\u001b[0m data \u001b[38;5;241m=\u001b[39m ReadData(file_path)\n\u001b[0;32m     12\u001b[0m \u001b[38;5;28;01mif\u001b[39;00m data \u001b[38;5;129;01mis\u001b[39;00m \u001b[38;5;129;01mnot\u001b[39;00m \u001b[38;5;28;01mNone\u001b[39;00m:\n\u001b[1;32m---> 13\u001b[0m     direct, gauss \u001b[38;5;241m=\u001b[39m analyze_dataset(data,file_name,index) \u001b[38;5;66;03m#analyse dataset and return a tuple containind the direct max data and the gaussian max data\u001b[39;00m\n\u001b[0;32m     15\u001b[0m     \u001b[38;5;66;03m#add the results to an array containing the results from other datasets\u001b[39;00m\n\u001b[0;32m     16\u001b[0m     dir_results\u001b[38;5;241m.\u001b[39mappend(direct)\n",
      "Cell \u001b[1;32mIn[17], line 17\u001b[0m, in \u001b[0;36manalyze_dataset\u001b[1;34m(dataset, count, index)\u001b[0m\n\u001b[0;32m     14\u001b[0m \u001b[38;5;28mprint\u001b[39m(\u001b[38;5;124mf\u001b[39m\u001b[38;5;124m\"\u001b[39m\u001b[38;5;124mFor this dataset, direct max X position is: \u001b[39m\u001b[38;5;132;01m{\u001b[39;00mdir_max_posX\u001b[38;5;132;01m}\u001b[39;00m\u001b[38;5;124m direct max Y position is: \u001b[39m\u001b[38;5;132;01m{\u001b[39;00mdir_max_posY\u001b[38;5;132;01m}\u001b[39;00m\u001b[38;5;124m and value is \u001b[39m\u001b[38;5;132;01m{\u001b[39;00mdir_max_val\u001b[38;5;132;01m}\u001b[39;00m\u001b[38;5;124m\"\u001b[39m)\n\u001b[0;32m     16\u001b[0m \u001b[38;5;66;03m#gaussian max analysis is \u001b[39;00m\n\u001b[1;32m---> 17\u001b[0m gauss_max_posX,guass_max_posY \u001b[38;5;241m=\u001b[39m fit_gaussian_3d(x_value,y_value,voltage)\n\u001b[0;32m     18\u001b[0m \u001b[38;5;28;01mif\u001b[39;00m gauss_max_posX \u001b[38;5;129;01mand\u001b[39;00m gauss_max_posY \u001b[38;5;129;01mis\u001b[39;00m \u001b[38;5;129;01mnot\u001b[39;00m \u001b[38;5;28;01mNone\u001b[39;00m:\n\u001b[0;32m     19\u001b[0m     gauss_max_val\u001b[38;5;241m=\u001b[39mvoltage[np\u001b[38;5;241m.\u001b[39margmax(gauss_max_posX)]\n",
      "Cell \u001b[1;32mIn[19], line 26\u001b[0m, in \u001b[0;36mfit_gaussian_3d\u001b[1;34m(x, y, z)\u001b[0m\n\u001b[0;32m     23\u001b[0m p0 \u001b[38;5;241m=\u001b[39m [a, np\u001b[38;5;241m.\u001b[39mmean(x), np\u001b[38;5;241m.\u001b[39mmean(y), np\u001b[38;5;241m.\u001b[39mstd(x), np\u001b[38;5;241m.\u001b[39mstd(y)]\n\u001b[0;32m     25\u001b[0m \u001b[38;5;28;01mtry\u001b[39;00m:\n\u001b[1;32m---> 26\u001b[0m     popt, pcov \u001b[38;5;241m=\u001b[39m curve_fit(gaussian_3d, x, y, z_smoothed, p0\u001b[38;5;241m=\u001b[39mp0)\n\u001b[0;32m     27\u001b[0m     peak_gaussian_x \u001b[38;5;241m=\u001b[39m popt[\u001b[38;5;241m1\u001b[39m]  \u001b[38;5;66;03m# Extract the x-position of the maximum\u001b[39;00m\n\u001b[0;32m     28\u001b[0m     peak_gaussian_y \u001b[38;5;241m=\u001b[39m popt[\u001b[38;5;241m2\u001b[39m]  \u001b[38;5;66;03m# Extract the y-position of the maximum\u001b[39;00m\n",
      "\u001b[1;31mTypeError\u001b[0m: curve_fit() got multiple values for argument 'p0'"
     ]
    }
   ],
   "source": [
    "#declare 2 arrays that will hold the data from the anaylyse_dataset function\n",
    "dir_results = []\n",
    "gauss_results =[]\n",
    "directory_path =\"3D_data\"\n",
    "index = 1 #to help identify the index of the file we are currently processing\n",
    "\n",
    "#loop through the data set folder and perform all the necessary operations(read the data, process the maxima etc)\n",
    "\n",
    "for file_name in os.listdir(directory_path): #get a single dataset at a time (identified by file_name)\n",
    "    file_path = os.path.join(directory_path, file_name)\n",
    "    data = ReadData(file_path)\n",
    "    if data is not None:\n",
    "        direct, gauss = analyze_dataset(data,file_name,index) #analyse dataset and return a tuple containind the direct max data and the gaussian max data\n",
    "       \n",
    "        #add the results to an array containing the results from other datasets\n",
    "        dir_results.append(direct)\n",
    "        gauss_results.append(gauss)\n",
    "        index +=1\n"
   ]
  },
  {
   "cell_type": "code",
   "execution_count": null,
   "id": "6668848b-ebb5-4b6c-9f44-f2ca4fd3d9cc",
   "metadata": {},
   "outputs": [],
   "source": [
    "#storing the data gotten from reading the datasets in seperate files\n",
    "\n",
    "df_gauss=pd.DataFrame(gauss_results) \n",
    "df_gauss.to_csv(\"gaussianData.csv\", index =False) #store guassian max data in gaussianData.csv file\n",
    "\n",
    "df_dir=pd.DataFrame(dir_results)\n",
    "df_dir.to_csv(\"directData.csv\", index =False) #store the direct max data in directData.csv"
   ]
  },
  {
   "cell_type": "code",
   "execution_count": null,
   "id": "855ae867-3f67-48cc-99ff-479139eb660e",
   "metadata": {},
   "outputs": [],
   "source": [
    "#Plotting the final maximum data and their positions\n",
    "def read_and_process_final_datasets(fileName):\n",
    "    df =pd.DataFrame(pd.read_csv(fileName, delimiter =\",\")) #read the data from the file where we stored it after processing all the datasets\n",
    "    df.columns =[\"x\",\"y\",\"z\"]\n",
    "    volt =df[\"z\"] \n",
    "    y_val =df[\"y\"]\n",
    "    x_val = df[\"x\"]\n",
    "    #plot the data\n",
    "   plt.figure()\n",
    "    ax =plt.axes(projection='3d')\n",
    "    ax.scatter(x_value, y_value, voltage)\n",
    "    ax.set_xlabel(\"X\")\n",
    "    ax.set_ylabel(\"Y\")\n",
    "    ax.set_zlabel(\"Voltage\")\n",
    "    ax.set_title(count + str(index))\n",
    "    plt.grid()\n",
    "    plt.show()\n",
    "    \n",
    "    #displaying the best fitline graph\n",
    "    # slope, intercept, r_value, p_value, std_err = stats.linregress(x_val, volt)\n",
    "    \n",
    "    # # Create the best fit line function\n",
    "    # def best_fit_line(x):\n",
    "    #     return slope * x + intercept\n",
    "    # # Generate x values for the best fit line\n",
    "    # x_fit = np.linspace(min(x_val), max(x_val), 100)  # Adjust the range of x_fit as needed\n",
    "    # # Plot the best fit line\n",
    "    # plt.plot(x_fit, best_fit_line(x_fit), color='red')\n",
    "    # plt.title(\"Scatter Plot of Maximum x-values against Maximum Voltage with Best Fit Line \")\n",
    "    # plt.show()\n"
   ]
  },
  {
   "cell_type": "code",
   "execution_count": null,
   "id": "c8aa06a2-41a8-4a3c-b9bb-a53b3257c32c",
   "metadata": {},
   "outputs": [],
   "source": [
    "#direct final maximum data and position plot\n",
    "read_and_process_final_datasets(\"directData.csv\")"
   ]
  },
  {
   "cell_type": "code",
   "execution_count": null,
   "id": "3d2309d8-3346-45ef-a108-d263704310b9",
   "metadata": {},
   "outputs": [],
   "source": [
    "#guassian final maximum data and position plot\n",
    "read_and_process_final_datasets(\"gaussianData.csv\")"
   ]
  },
  {
   "cell_type": "code",
   "execution_count": null,
   "id": "81291dc8-ad4d-49be-8d6c-3c5d7c8e396a",
   "metadata": {},
   "outputs": [],
   "source": []
  }
 ],
 "metadata": {
  "kernelspec": {
   "display_name": "Python 3 (ipykernel)",
   "language": "python",
   "name": "python3"
  },
  "language_info": {
   "codemirror_mode": {
    "name": "ipython",
    "version": 3
   },
   "file_extension": ".py",
   "mimetype": "text/x-python",
   "name": "python",
   "nbconvert_exporter": "python",
   "pygments_lexer": "ipython3",
   "version": "3.12.4"
  }
 },
 "nbformat": 4,
 "nbformat_minor": 5
}
